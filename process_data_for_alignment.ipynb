{
 "cells": [
  {
   "cell_type": "code",
   "execution_count": 6,
   "id": "e1a7a20c",
   "metadata": {},
   "outputs": [],
   "source": [
    "import nltk\n",
    "from nltk.tokenize import word_tokenize"
   ]
  },
  {
   "cell_type": "code",
   "execution_count": 7,
   "id": "a368026f",
   "metadata": {},
   "outputs": [],
   "source": [
    "# Токенизация исходных файлов\n",
    "with open('output-eng-rus.txt', 'r', encoding='utf-8') as file:\n",
    "    text = file.readlines()\n",
    "\n",
    "tokenized_text = []\n",
    "for line in text:\n",
    "    if '|||' in line:\n",
    "        tokens = ' '.join(word_tokenize(line))\n",
    "        tokenized_text.append(tokens)\n",
    "    else:\n",
    "        tokenized_text.append(line.strip())\n",
    "\n",
    "with open('output-eng-rus-tokenized.txt', 'w', encoding='utf-8') as tokenized_file:\n",
    "    for token in tokenized_text:\n",
    "        tokenized_file.write(token + '\\n')"
   ]
  },
  {
   "cell_type": "code",
   "execution_count": 71,
   "id": "b3bd936a",
   "metadata": {},
   "outputs": [],
   "source": [
    "# Очистка данных от строк с названиями текстов\n",
    "with open('output-rus-eng-tokenized.txt', 'r') as file1:\n",
    "    cleaned_text = file1.readlines()\n",
    "\n",
    "with open('output-rus-eng-cleaned.txt', 'w', encoding='utf-8') as cleaned_file:\n",
    "    for line in cleaned_text:\n",
    "        if '|||' in line:\n",
    "            cleaned_file.write(line)"
   ]
  },
  {
   "cell_type": "code",
   "execution_count": 9,
   "id": "88abb04c",
   "metadata": {},
   "outputs": [],
   "source": [
    "# Разделение всех данных на части\n",
    "with open('output-eng-rus-cleaned.txt', 'r', encoding='utf-8') as file:\n",
    "    text = file.readlines()\n",
    "\n",
    "with open('eng-rus-part1.txt', 'w', encoding='utf-8') as new_file:\n",
    "    for line in text:\n",
    "        if 'His manner was smug and deferential' not in line:\n",
    "            new_file.write(line)\n",
    "        else:\n",
    "            break"
   ]
  },
  {
   "cell_type": "code",
   "execution_count": null,
   "id": "45a4bac7",
   "metadata": {},
   "outputs": [],
   "source": []
  }
 ],
 "metadata": {
  "kernelspec": {
   "display_name": "Python 3 (ipykernel)",
   "language": "python",
   "name": "python3"
  },
  "language_info": {
   "codemirror_mode": {
    "name": "ipython",
    "version": 3
   },
   "file_extension": ".py",
   "mimetype": "text/x-python",
   "name": "python",
   "nbconvert_exporter": "python",
   "pygments_lexer": "ipython3",
   "version": "3.8.8"
  }
 },
 "nbformat": 4,
 "nbformat_minor": 5
}
